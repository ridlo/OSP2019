{
 "cells": [
  {
   "cell_type": "code",
   "execution_count": 1,
   "metadata": {},
   "outputs": [],
   "source": [
    "import numpy as np\n",
    "from astropy.constants import c, G, M_sun, R_earth, au, e, m_e, h, eps0, Ryd, N_A\n",
    "from astropy import units as u\n",
    "\n",
    "import matplotlib.pyplot as plt\n",
    "\n",
    "%matplotlib inline"
   ]
  },
  {
   "cell_type": "markdown",
   "metadata": {},
   "source": [
    "# OSP Astronomi 2019\n",
    "\n",
    "### Nomor 2\n",
    "\n",
    "$c = \\lambda \\cdot f$"
   ]
  },
  {
   "cell_type": "markdown",
   "metadata": {},
   "source": [
    "Cara 1"
   ]
  },
  {
   "cell_type": "code",
   "execution_count": 2,
   "metadata": {},
   "outputs": [],
   "source": [
    "lambda_1 = (6678 - 1.25) * 10**(-10) * u.meter\n",
    "lambda_2 = (6678 + 1.25) * 10**(-10) * u.meter"
   ]
  },
  {
   "cell_type": "code",
   "execution_count": 3,
   "metadata": {},
   "outputs": [
    {
     "data": {
      "text/latex": [
       "$6.67675 \\times 10^{-7} \\; \\mathrm{m}$"
      ],
      "text/plain": [
       "<Quantity 6.67675e-07 m>"
      ]
     },
     "execution_count": 3,
     "metadata": {},
     "output_type": "execute_result"
    }
   ],
   "source": [
    "lambda_1"
   ]
  },
  {
   "cell_type": "code",
   "execution_count": 4,
   "metadata": {},
   "outputs": [
    {
     "data": {
      "text/latex": [
       "$6.67925 \\times 10^{-7} \\; \\mathrm{m}$"
      ],
      "text/plain": [
       "<Quantity 6.67925e-07 m>"
      ]
     },
     "execution_count": 4,
     "metadata": {},
     "output_type": "execute_result"
    }
   ],
   "source": [
    "lambda_2"
   ]
  },
  {
   "cell_type": "code",
   "execution_count": 5,
   "metadata": {},
   "outputs": [],
   "source": [
    "f_1 = c / lambda_1\n",
    "f_2 = c / lambda_2"
   ]
  },
  {
   "cell_type": "code",
   "execution_count": 6,
   "metadata": {},
   "outputs": [
    {
     "data": {
      "text/latex": [
       "$4.4900956 \\times 10^{14} \\; \\mathrm{\\frac{1}{s}}$"
      ],
      "text/plain": [
       "<Quantity 4.4900956e+14 1 / s>"
      ]
     },
     "execution_count": 6,
     "metadata": {},
     "output_type": "execute_result"
    }
   ],
   "source": [
    "f_1"
   ]
  },
  {
   "cell_type": "code",
   "execution_count": 7,
   "metadata": {},
   "outputs": [
    {
     "data": {
      "text/latex": [
       "$4.488415 \\times 10^{14} \\; \\mathrm{\\frac{1}{s}}$"
      ],
      "text/plain": [
       "<Quantity 4.48841499e+14 1 / s>"
      ]
     },
     "execution_count": 7,
     "metadata": {},
     "output_type": "execute_result"
    }
   ],
   "source": [
    "f_2"
   ]
  },
  {
   "cell_type": "code",
   "execution_count": 8,
   "metadata": {},
   "outputs": [
    {
     "data": {
      "text/latex": [
       "$1.6806137 \\times 10^{11} \\; \\mathrm{\\frac{1}{s}}$"
      ],
      "text/plain": [
       "<Quantity 1.68061369e+11 1 / s>"
      ]
     },
     "execution_count": 8,
     "metadata": {},
     "output_type": "execute_result"
    }
   ],
   "source": [
    "f_1 - f_2"
   ]
  },
  {
   "cell_type": "markdown",
   "metadata": {},
   "source": [
    "Cara 2\n",
    "\n",
    "$f = c \\cdot \\lambda^{-1}$\n",
    "\n",
    "Untuk $df$ atau $d\\lambda$ kecil\n",
    "\n",
    "$\\frac{df}{d\\lambda} = - c \\cdot \\lambda^{-2}$\n",
    "\n",
    "$df = - c \\cdot \\lambda^{-2} d\\lambda$"
   ]
  },
  {
   "cell_type": "code",
   "execution_count": 9,
   "metadata": {},
   "outputs": [],
   "source": [
    "lamb = 6678e-10*u.meter\n",
    "dlamb = 2.5e-10*u.meter"
   ]
  },
  {
   "cell_type": "code",
   "execution_count": 10,
   "metadata": {},
   "outputs": [],
   "source": [
    "df = -c * lamb**(-2) * dlamb"
   ]
  },
  {
   "cell_type": "code",
   "execution_count": 11,
   "metadata": {},
   "outputs": [
    {
     "data": {
      "text/latex": [
       "$-1.6806136 \\times 10^{11} \\; \\mathrm{\\frac{1}{s}}$"
      ],
      "text/plain": [
       "<Quantity -1.68061363e+11 1 / s>"
      ]
     },
     "execution_count": 11,
     "metadata": {},
     "output_type": "execute_result"
    }
   ],
   "source": [
    "df"
   ]
  },
  {
   "cell_type": "markdown",
   "metadata": {},
   "source": [
    "Cara yang SALAH -> Jebakan"
   ]
  },
  {
   "cell_type": "code",
   "execution_count": 12,
   "metadata": {},
   "outputs": [
    {
     "data": {
      "text/latex": [
       "$1.1991698 \\times 10^{18} \\; \\mathrm{\\frac{1}{s}}$"
      ],
      "text/plain": [
       "<Quantity 1.19916983e+18 1 / s>"
      ]
     },
     "execution_count": 12,
     "metadata": {},
     "output_type": "execute_result"
    }
   ],
   "source": [
    "c/dlamb"
   ]
  },
  {
   "cell_type": "markdown",
   "metadata": {},
   "source": [
    "### Nomor 3"
   ]
  },
  {
   "cell_type": "code",
   "execution_count": 13,
   "metadata": {},
   "outputs": [],
   "source": [
    "Mv = 2.6\n",
    "B0_V0 = 0.3\n",
    "V = 6.79\n",
    "B_V = 0.35\n",
    "\n",
    "R = 3.2"
   ]
  },
  {
   "cell_type": "markdown",
   "metadata": {},
   "source": [
    "$V - M_\\text{v} = -5 + 5 \\log{d} + A_\\text{v}$"
   ]
  },
  {
   "cell_type": "code",
   "execution_count": 14,
   "metadata": {},
   "outputs": [],
   "source": [
    "E_BV = B_V - B0_V0"
   ]
  },
  {
   "cell_type": "code",
   "execution_count": 15,
   "metadata": {},
   "outputs": [],
   "source": [
    "Av = R * E_BV"
   ]
  },
  {
   "cell_type": "code",
   "execution_count": 16,
   "metadata": {},
   "outputs": [],
   "source": [
    "d = 10**((V - Mv - Av + 5.0)/5.0)"
   ]
  },
  {
   "cell_type": "code",
   "execution_count": 17,
   "metadata": {},
   "outputs": [
    {
     "name": "stdout",
     "output_type": "stream",
     "text": [
      "Jaraknya: 63.97348354826479 pc\n"
     ]
    }
   ],
   "source": [
    "print(f\"Jaraknya: {d} pc\")"
   ]
  },
  {
   "cell_type": "markdown",
   "metadata": {},
   "source": [
    "### Nomor 4"
   ]
  },
  {
   "cell_type": "code",
   "execution_count": 18,
   "metadata": {},
   "outputs": [],
   "source": [
    "M = 1.4*M_sun\n",
    "rho = 1e12*u.kg/u.m**3\n",
    "Rf = 10000*u.m"
   ]
  },
  {
   "cell_type": "code",
   "execution_count": 19,
   "metadata": {},
   "outputs": [],
   "source": [
    "Vi = M/rho"
   ]
  },
  {
   "cell_type": "code",
   "execution_count": 20,
   "metadata": {},
   "outputs": [
    {
     "data": {
      "text/latex": [
       "$2.7838656 \\times 10^{18} \\; \\mathrm{m^{3}}$"
      ],
      "text/plain": [
       "<Quantity 2.78386558e+18 m3>"
      ]
     },
     "execution_count": 20,
     "metadata": {},
     "output_type": "execute_result"
    }
   ],
   "source": [
    "Vi"
   ]
  },
  {
   "cell_type": "code",
   "execution_count": 21,
   "metadata": {},
   "outputs": [],
   "source": [
    "Ri = (3*Vi/(4*np.pi))**(1/3.)"
   ]
  },
  {
   "cell_type": "code",
   "execution_count": 22,
   "metadata": {},
   "outputs": [
    {
     "data": {
      "text/latex": [
       "$872676.37 \\; \\mathrm{m}$"
      ],
      "text/plain": [
       "<Quantity 872676.3719462 m>"
      ]
     },
     "execution_count": 22,
     "metadata": {},
     "output_type": "execute_result"
    }
   ],
   "source": [
    "Ri"
   ]
  },
  {
   "cell_type": "code",
   "execution_count": 23,
   "metadata": {},
   "outputs": [
    {
     "data": {
      "text/latex": [
       "$3.0678482 \\times 10^{46} \\; \\mathrm{\\frac{m^{2}\\,kg}{s^{2}}}$"
      ],
      "text/plain": [
       "<Quantity 3.06784821e+46 kg m2 / s2>"
      ]
     },
     "execution_count": 23,
     "metadata": {},
     "output_type": "execute_result"
    }
   ],
   "source": [
    "3./5. * G * M * M * (1./Rf - 1./Ri)"
   ]
  },
  {
   "cell_type": "markdown",
   "metadata": {},
   "source": [
    "### Nomor 7"
   ]
  },
  {
   "cell_type": "code",
   "execution_count": 24,
   "metadata": {},
   "outputs": [],
   "source": [
    "from datetime import datetime\n",
    "from astropy.time import Time, TimeDelta"
   ]
  },
  {
   "cell_type": "code",
   "execution_count": 25,
   "metadata": {},
   "outputs": [],
   "source": [
    "t1 = Time(\"2019-03-20 21:58\") # vernal_equinox\n",
    "t2 = Time(\"2019-09-23 07:50\") # autumnal_equinox\n",
    "t3 = Time(\"2020-03-20 03:49\") # next vernal equinox"
   ]
  },
  {
   "cell_type": "code",
   "execution_count": 26,
   "metadata": {},
   "outputs": [
    {
     "data": {
      "text/plain": [
       "<TimeDelta object: scale='tai' format='jd' value=186.4111111111111>"
      ]
     },
     "execution_count": 26,
     "metadata": {},
     "output_type": "execute_result"
    }
   ],
   "source": [
    "t2-t1"
   ]
  },
  {
   "cell_type": "code",
   "execution_count": 27,
   "metadata": {},
   "outputs": [
    {
     "data": {
      "text/plain": [
       "<TimeDelta object: scale='tai' format='jd' value=178.83263888888888>"
      ]
     },
     "execution_count": 27,
     "metadata": {},
     "output_type": "execute_result"
    }
   ],
   "source": [
    "t3-t2"
   ]
  },
  {
   "cell_type": "code",
   "execution_count": 28,
   "metadata": {},
   "outputs": [
    {
     "data": {
      "text/plain": [
       "<TimeDelta object: scale='tai' format='jd' value=7.5784722222222225>"
      ]
     },
     "execution_count": 28,
     "metadata": {},
     "output_type": "execute_result"
    }
   ],
   "source": [
    "(t2-t1) - (t3-t2)"
   ]
  },
  {
   "cell_type": "markdown",
   "metadata": {},
   "source": [
    "### Nomor 9\n",
    "\n",
    "**Kasus Bumi**"
   ]
  },
  {
   "cell_type": "code",
   "execution_count": 29,
   "metadata": {},
   "outputs": [],
   "source": [
    "he = 8800 * u.meter"
   ]
  },
  {
   "cell_type": "code",
   "execution_count": 30,
   "metadata": {},
   "outputs": [],
   "source": [
    "theta_earth = np.arccos(R_earth/(R_earth+he))"
   ]
  },
  {
   "cell_type": "code",
   "execution_count": 31,
   "metadata": {},
   "outputs": [
    {
     "data": {
      "text/plain": [
       "3.0080412370253837"
      ]
     },
     "execution_count": 31,
     "metadata": {},
     "output_type": "execute_result"
    }
   ],
   "source": [
    "theta_earth.to_value(u.degree)"
   ]
  },
  {
   "cell_type": "code",
   "execution_count": 32,
   "metadata": {},
   "outputs": [
    {
     "data": {
      "text/latex": [
       "$334851.68 \\; \\mathrm{m\\,rad}$"
      ],
      "text/plain": [
       "<Quantity 334851.67628256 m rad>"
      ]
     },
     "execution_count": 32,
     "metadata": {},
     "output_type": "execute_result"
    }
   ],
   "source": [
    "# Jarak horizon melengkung di permukaan\n",
    "theta_earth*R_earth"
   ]
  },
  {
   "cell_type": "code",
   "execution_count": 33,
   "metadata": {},
   "outputs": [
    {
     "data": {
      "text/latex": [
       "$335159.66 \\; \\mathrm{m}$"
      ],
      "text/plain": [
       "<Quantity 335159.66344415 m>"
      ]
     },
     "execution_count": 33,
     "metadata": {},
     "output_type": "execute_result"
    }
   ],
   "source": [
    "# Jarak lurus dari pengamat ke horizon\n",
    "np.sin(theta_earth)*(R_earth+he)"
   ]
  },
  {
   "cell_type": "code",
   "execution_count": 34,
   "metadata": {},
   "outputs": [
    {
     "data": {
      "text/latex": [
       "$335159.66 \\; \\mathrm{m}$"
      ],
      "text/plain": [
       "<Quantity 335159.66344416 m>"
      ]
     },
     "execution_count": 34,
     "metadata": {},
     "output_type": "execute_result"
    }
   ],
   "source": [
    "np.sqrt(2*R_earth*he + he**2)"
   ]
  },
  {
   "cell_type": "markdown",
   "metadata": {},
   "source": [
    "**Kasus Mars**"
   ]
  },
  {
   "cell_type": "code",
   "execution_count": 35,
   "metadata": {},
   "outputs": [],
   "source": [
    "Rm = 3389500 # meter\n",
    "hm = 13800 # meter"
   ]
  },
  {
   "cell_type": "code",
   "execution_count": 36,
   "metadata": {},
   "outputs": [],
   "source": [
    "theta_mars = np.arccos(Rm/(Rm+hm))"
   ]
  },
  {
   "cell_type": "code",
   "execution_count": 37,
   "metadata": {},
   "outputs": [
    {
     "data": {
      "text/plain": [
       "5.161476057005604"
      ]
     },
     "execution_count": 37,
     "metadata": {},
     "output_type": "execute_result"
    }
   ],
   "source": [
    "(theta_mars*u.rad).to_value(u.degree)"
   ]
  },
  {
   "cell_type": "code",
   "execution_count": 38,
   "metadata": {},
   "outputs": [
    {
     "data": {
      "text/plain": [
       "305342.26506554306"
      ]
     },
     "execution_count": 38,
     "metadata": {},
     "output_type": "execute_result"
    }
   ],
   "source": [
    "# Jarak horizon melengkung di permukaan\n",
    "theta_mars*Rm"
   ]
  },
  {
   "cell_type": "code",
   "execution_count": 39,
   "metadata": {},
   "outputs": [
    {
     "data": {
      "text/plain": [
       "306170.9326503739"
      ]
     },
     "execution_count": 39,
     "metadata": {},
     "output_type": "execute_result"
    }
   ],
   "source": [
    "# Jarak lurus dari pengamat ke horizon\n",
    "np.sin(theta_mars)*(Rm+hm)"
   ]
  },
  {
   "cell_type": "code",
   "execution_count": 40,
   "metadata": {},
   "outputs": [
    {
     "data": {
      "text/plain": [
       "306170.93265037425"
      ]
     },
     "execution_count": 40,
     "metadata": {},
     "output_type": "execute_result"
    }
   ],
   "source": [
    "np.sqrt(2*Rm*hm + hm**2)"
   ]
  },
  {
   "cell_type": "markdown",
   "metadata": {},
   "source": [
    "### Nomor 10"
   ]
  },
  {
   "cell_type": "code",
   "execution_count": 41,
   "metadata": {},
   "outputs": [],
   "source": [
    "v = 220.0 # km/s\n",
    "R = 8000 # pc\n",
    "Gmodified = 4.302e-3 #"
   ]
  },
  {
   "cell_type": "code",
   "execution_count": 42,
   "metadata": {},
   "outputs": [],
   "source": [
    "M = v**2 * R  / Gmodified"
   ]
  },
  {
   "cell_type": "code",
   "execution_count": 43,
   "metadata": {},
   "outputs": [
    {
     "name": "stdout",
     "output_type": "stream",
     "text": [
      "Massa galaksi hingga radius 8kpc adalah 90004649000.46489 Msun\n"
     ]
    }
   ],
   "source": [
    "print(f\"Massa galaksi hingga radius 8kpc adalah {M} Msun\")"
   ]
  },
  {
   "cell_type": "code",
   "execution_count": 44,
   "metadata": {},
   "outputs": [],
   "source": [
    "rho_dm = (1.0 - 0.529) * M / (4./3. * np.pi * R**3)"
   ]
  },
  {
   "cell_type": "code",
   "execution_count": 45,
   "metadata": {},
   "outputs": [
    {
     "data": {
      "text/plain": [
       "0.019766386335752718"
      ]
     },
     "execution_count": 45,
     "metadata": {},
     "output_type": "execute_result"
    }
   ],
   "source": [
    "rho_dm"
   ]
  },
  {
   "cell_type": "markdown",
   "metadata": {},
   "source": [
    "### Nomor 11"
   ]
  },
  {
   "cell_type": "code",
   "execution_count": 46,
   "metadata": {},
   "outputs": [
    {
     "name": "stdout",
     "output_type": "stream",
     "text": [
      "G:    Name   = Gravitational constant\n",
      "  Value  = 6.67408e-11\n",
      "  Uncertainty  = 3.1e-15\n",
      "  Unit  = m3 / (kg s2)\n",
      "  Reference = CODATA 2014 6.674079999999999e-08 cm3 / (g s2) \n",
      "mass of H2:  3.347e-24 g \n",
      "density:  1.0041e-21 g / cm3 \n",
      "radius:  3.0856775814671913e+19 cm\n"
     ]
    }
   ],
   "source": [
    "n = 300 / u.cm**3\n",
    "mH2 = 2 * 1.6735e-24 * u.gram\n",
    "rho = mH2 * n\n",
    "R = (10. * u.pc).to(u.cm)\n",
    "\n",
    "print('G: ', G, G.cgs, \"\\nmass of H2: \", mH2, \"\\ndensity: \", rho, \"\\nradius: \", R)"
   ]
  },
  {
   "cell_type": "code",
   "execution_count": 47,
   "metadata": {},
   "outputs": [
    {
     "data": {
      "text/latex": [
       "$6.3615519 \\times 10^{-5} \\; \\mathrm{\\frac{g^{1/2}}{cm^{1/2}\\,s}}$"
      ],
      "text/plain": [
       "<Quantity 6.36155192e-05 g(1/2) / (cm(1/2) s)>"
      ]
     },
     "execution_count": 47,
     "metadata": {},
     "output_type": "execute_result"
    }
   ],
   "source": [
    "np.sqrt(32*G.cgs/5.) * np.pi * rho * R"
   ]
  },
  {
   "cell_type": "code",
   "execution_count": 48,
   "metadata": {},
   "outputs": [
    {
     "data": {
      "text/latex": [
       "$1.0041 \\times 10^{-18} \\; \\mathrm{\\frac{kg}{m^{3}}}$"
      ],
      "text/plain": [
       "<Quantity 1.0041e-18 kg / m3>"
      ]
     },
     "execution_count": 48,
     "metadata": {},
     "output_type": "execute_result"
    }
   ],
   "source": [
    "rho.to(u.kg/u.m**3)"
   ]
  },
  {
   "cell_type": "code",
   "execution_count": 49,
   "metadata": {},
   "outputs": [
    {
     "data": {
      "text/latex": [
       "$3.0856776 \\times 10^{17} \\; \\mathrm{m}$"
      ],
      "text/plain": [
       "<Quantity 3.08567758e+17 m>"
      ]
     },
     "execution_count": 49,
     "metadata": {},
     "output_type": "execute_result"
    }
   ],
   "source": [
    "R.to(u.meter)"
   ]
  },
  {
   "cell_type": "code",
   "execution_count": 50,
   "metadata": {},
   "outputs": [
    {
     "data": {
      "text/latex": [
       "$6.3615519 \\times 10^{-9} \\; \\mathrm{\\frac{kg^{1/2}}{m^{1/2}\\,s}}$"
      ],
      "text/plain": [
       "<Quantity 6.36155192e-09 kg(1/2) / (m(1/2) s)>"
      ]
     },
     "execution_count": 50,
     "metadata": {},
     "output_type": "execute_result"
    }
   ],
   "source": [
    "np.sqrt(32.*G*1e-7/5.) * np.pi * rho.to(u.kg/u.m**3) * R.to(u.meter)"
   ]
  },
  {
   "cell_type": "markdown",
   "metadata": {},
   "source": [
    "### Nomor 12"
   ]
  },
  {
   "cell_type": "code",
   "execution_count": 51,
   "metadata": {},
   "outputs": [],
   "source": [
    "D = 278205221 * u.m\n",
    "d = 10.627 * au"
   ]
  },
  {
   "cell_type": "code",
   "execution_count": 52,
   "metadata": {},
   "outputs": [],
   "source": [
    "theta = D/d\n",
    "theta_deg = theta*180/np.pi\n",
    "theta_arcmin = theta_deg * 60.\n",
    "theta_arcsec = theta_deg * 3600."
   ]
  },
  {
   "cell_type": "code",
   "execution_count": 53,
   "metadata": {},
   "outputs": [
    {
     "name": "stdout",
     "output_type": "stream",
     "text": [
      "Diameter sudut: 0.000174996427744843 radian \n",
      "= 0.010026556739645566 deg \n",
      "= 0.601593404378734 arcmin \n",
      "= 36.09560426272404 arcsec\n"
     ]
    }
   ],
   "source": [
    "print(f\"Diameter sudut: {theta} radian \\n= {theta_deg} deg \\n= {theta_arcmin} arcmin \\n= {theta_arcsec} arcsec\")"
   ]
  },
  {
   "cell_type": "code",
   "execution_count": 54,
   "metadata": {},
   "outputs": [
    {
     "name": "stdout",
     "output_type": "stream",
     "text": [
      "0.09946344285728402 5.967806571437041 358.0683942862225\n"
     ]
    }
   ],
   "source": [
    "fov = 744./75. * theta_deg\n",
    "print(fov, fov*60, fov*3600)"
   ]
  },
  {
   "cell_type": "code",
   "execution_count": 55,
   "metadata": {},
   "outputs": [
    {
     "data": {
      "text/plain": [
       "(<Quantity 5.96780657>, <Quantity 358.06839429>)"
      ]
     },
     "execution_count": 55,
     "metadata": {},
     "output_type": "execute_result"
    }
   ],
   "source": [
    "fov*60., fov*3600."
   ]
  },
  {
   "cell_type": "code",
   "execution_count": 56,
   "metadata": {},
   "outputs": [
    {
     "data": {
      "text/latex": [
       "$5.0527429 \\; \\mathrm{}$"
      ],
      "text/plain": [
       "<Quantity 5.0527429>"
      ]
     },
     "execution_count": 56,
     "metadata": {},
     "output_type": "execute_result"
    }
   ],
   "source": [
    "fov/55*2794"
   ]
  },
  {
   "cell_type": "markdown",
   "metadata": {},
   "source": [
    "### Nomor 13\n",
    "\n",
    "Coba satu2 saja!"
   ]
  },
  {
   "cell_type": "code",
   "execution_count": 57,
   "metadata": {},
   "outputs": [],
   "source": [
    "def is_kabisat_modified_gregorian(year):\n",
    "    kabisat = False\n",
    "    \n",
    "    if year % 4 == 0:\n",
    "        kabisat = True\n",
    "        \n",
    "    if year % 100 == 0:\n",
    "        if year % 400 == 0:\n",
    "            kabisat = True\n",
    "        else:\n",
    "            kabisat = False\n",
    "            \n",
    "    if year % 4000 == 0:\n",
    "        kabisat = False\n",
    "    \n",
    "    return kabisat\n",
    "\n",
    "def is_kabisat_ortodoks_timur(year):\n",
    "    kabisat = False\n",
    "    \n",
    "    if year % 4 == 0:\n",
    "        kabisat = True\n",
    "        \n",
    "    if year % 100 == 0:\n",
    "        if (year % 900 == 200) or (year % 900 == 600):\n",
    "            kabisat = True\n",
    "        else:\n",
    "            kabisat = False\n",
    "    \n",
    "    return kabisat"
   ]
  },
  {
   "cell_type": "code",
   "execution_count": 58,
   "metadata": {},
   "outputs": [
    {
     "name": "stdout",
     "output_type": "stream",
     "text": [
      "Test Modified Gregorian\n",
      "2002:  False\n",
      "2004:  True\n",
      "1900:  False\n",
      "8000:  False\n",
      "2000:  True\n",
      "\n",
      "Test Ortodoks Timur\n",
      "2002:  False\n",
      "2004:  True\n",
      "1900:  False\n",
      "2400:  True\n",
      "2000:  True\n"
     ]
    }
   ],
   "source": [
    "print(\"Test Modified Gregorian\")\n",
    "print('2002: ', is_kabisat_modified_gregorian(2002))\n",
    "print('2004: ', is_kabisat_modified_gregorian(2004))\n",
    "print('1900: ', is_kabisat_modified_gregorian(1900))\n",
    "print('8000: ', is_kabisat_modified_gregorian(8000))\n",
    "print('2000: ', is_kabisat_modified_gregorian(2000))\n",
    "\n",
    "print(\"\\nTest Ortodoks Timur\")\n",
    "print('2002: ', is_kabisat_ortodoks_timur(2002))\n",
    "print('2004: ', is_kabisat_ortodoks_timur(2004))\n",
    "print('1900: ', is_kabisat_ortodoks_timur(1900))\n",
    "print('2400: ', is_kabisat_ortodoks_timur(2400))\n",
    "print('2000: ', is_kabisat_ortodoks_timur(2000))"
   ]
  },
  {
   "cell_type": "code",
   "execution_count": 59,
   "metadata": {},
   "outputs": [
    {
     "name": "stdout",
     "output_type": "stream",
     "text": [
      "2100 False False\n",
      "2200 False False\n",
      "2300 False False\n",
      "2400 True True\n"
     ]
    }
   ],
   "source": [
    "year = 2100\n",
    "x = is_kabisat_modified_gregorian(year)\n",
    "y = is_kabisat_ortodoks_timur(year)\n",
    "print(year, x, y)\n",
    "while (x and y) is not True:\n",
    "    year += 100\n",
    "    x = is_kabisat_modified_gregorian(year)\n",
    "    y = is_kabisat_ortodoks_timur(year)\n",
    "    print(year, x, y)"
   ]
  },
  {
   "cell_type": "code",
   "execution_count": 60,
   "metadata": {},
   "outputs": [
    {
     "name": "stdout",
     "output_type": "stream",
     "text": [
      "2000 True True\n",
      "2100 False False\n",
      "2200 False False\n",
      "2300 False False\n",
      "2400 True True\n",
      "2500 False False\n",
      "2600 False False\n",
      "2700 False False\n",
      "2800 True False\n"
     ]
    }
   ],
   "source": [
    "year = 2000\n",
    "x = is_kabisat_modified_gregorian(year)\n",
    "y = is_kabisat_ortodoks_timur(year)\n",
    "print(year, x, y)\n",
    "while x == y:\n",
    "    year += 100\n",
    "    x = is_kabisat_modified_gregorian(year)\n",
    "    y = is_kabisat_ortodoks_timur(year)\n",
    "    print(year, x, y)"
   ]
  },
  {
   "cell_type": "markdown",
   "metadata": {},
   "source": [
    "lol.. ngapain bikin fungsi, nyobain satu2 lebih cepet."
   ]
  },
  {
   "cell_type": "markdown",
   "metadata": {},
   "source": [
    "### Nomor 14"
   ]
  },
  {
   "cell_type": "code",
   "execution_count": 61,
   "metadata": {},
   "outputs": [
    {
     "data": {
      "text/plain": [
       "-0.19795311511906205"
      ]
     },
     "execution_count": 61,
     "metadata": {},
     "output_type": "execute_result"
    }
   ],
   "source": [
    "-2.5*np.log10(6./5.)"
   ]
  },
  {
   "cell_type": "code",
   "execution_count": 62,
   "metadata": {},
   "outputs": [
    {
     "data": {
      "text/plain": [
       "0.242275032520141"
      ]
     },
     "execution_count": 62,
     "metadata": {},
     "output_type": "execute_result"
    }
   ],
   "source": [
    "-2.5*np.log10(4./5.)"
   ]
  },
  {
   "cell_type": "code",
   "execution_count": 63,
   "metadata": {},
   "outputs": [
    {
     "data": {
      "text/plain": [
       "0.22011407381960152"
      ]
     },
     "execution_count": 63,
     "metadata": {},
     "output_type": "execute_result"
    }
   ],
   "source": [
    "(0.242275032520141+0.19795311511906205)/2"
   ]
  },
  {
   "cell_type": "markdown",
   "metadata": {},
   "source": [
    "#### Error propagation from flux to magnitude\n",
    "\n",
    "$$ f \\pm \\sigma_f \\longrightarrow m \\pm \\sigma_m$$\n",
    "\n",
    "Assume that the errors on the magnitudes are small. The magnitude equation is \n",
    "\n",
    "$$m = -2.5 \\log_{10} f + c$$\n",
    "\n",
    "Therefore, from standard error propagation formula\n",
    "\n",
    "$$\\sigma_m = \\frac{\\partial m}{\\partial f} \\sigma_f = \\frac{dm}{df} \\sigma_f$$\n",
    "\n",
    "To differentiate $\\log_{10} f$, we use the change of base formula to write:\n",
    "\n",
    "$$ \\log_{10} f = \\frac{ \\ln f }{\\ln 10}$$\n",
    "\n",
    "Hence,\n",
    "\n",
    "$$m = -\\frac{2.5}{\\ln{10}} \\ln f + c$$ \n",
    "\n",
    "$$\\frac{dm}{df} \\approx -\\frac{2.5}{\\ln{10}} \\frac{1}{f} = -1.086\\frac{\\sigma_f}{f}$$\n",
    "\n",
    "$$ | \\sigma_m | = 1.086 \\frac{ \\sigma_f }{ f} \\approx \\frac{ \\sigma_f }{ f}$$"
   ]
  },
  {
   "cell_type": "code",
   "execution_count": 64,
   "metadata": {},
   "outputs": [
    {
     "data": {
      "text/plain": [
       "2.302585092994046"
      ]
     },
     "execution_count": 64,
     "metadata": {},
     "output_type": "execute_result"
    }
   ],
   "source": [
    "np.log(10)"
   ]
  },
  {
   "cell_type": "code",
   "execution_count": 65,
   "metadata": {},
   "outputs": [
    {
     "name": "stdout",
     "output_type": "stream",
     "text": [
      "-1.0857362047581294\n"
     ]
    }
   ],
   "source": [
    "const = (-2.5/np.log(10))\n",
    "print(const)"
   ]
  },
  {
   "cell_type": "code",
   "execution_count": 66,
   "metadata": {},
   "outputs": [
    {
     "data": {
      "text/plain": [
       "0.21714724095162588"
      ]
     },
     "execution_count": 66,
     "metadata": {},
     "output_type": "execute_result"
    }
   ],
   "source": [
    "abs(const)*(1./5.)"
   ]
  },
  {
   "cell_type": "markdown",
   "metadata": {},
   "source": [
    "### Nomor 15"
   ]
  },
  {
   "cell_type": "code",
   "execution_count": 67,
   "metadata": {},
   "outputs": [
    {
     "name": "stdout",
     "output_type": "stream",
     "text": [
      "2827.4333882308138\n"
     ]
    }
   ],
   "source": [
    "A = 0.25 * np.pi * 60**2\n",
    "print(A)"
   ]
  },
  {
   "cell_type": "code",
   "execution_count": 68,
   "metadata": {},
   "outputs": [
    {
     "name": "stdout",
     "output_type": "stream",
     "text": [
      "19.257125318264666\n"
     ]
    }
   ],
   "source": [
    "m = 20.5 - 2.5 * np.log10(np.pi * 1 * 1)\n",
    "print(m)"
   ]
  },
  {
   "cell_type": "code",
   "execution_count": 69,
   "metadata": {},
   "outputs": [
    {
     "name": "stdout",
     "output_type": "stream",
     "text": [
      "6.139315927876405e-14\n"
     ]
    }
   ],
   "source": [
    "F = 1.6e5 * 10**((19.26 + 26.78)/(-2.5))\n",
    "print(F)"
   ]
  },
  {
   "cell_type": "code",
   "execution_count": 70,
   "metadata": {},
   "outputs": [
    {
     "data": {
      "text/latex": [
       "$6.62607 \\times 10^{-27} \\; \\mathrm{erg\\,s}$"
      ],
      "text/plain": [
       "<Quantity 6.62607004e-27 erg s>"
      ]
     },
     "execution_count": 70,
     "metadata": {},
     "output_type": "execute_result"
    }
   ],
   "source": [
    "h.cgs"
   ]
  },
  {
   "cell_type": "code",
   "execution_count": 71,
   "metadata": {},
   "outputs": [
    {
     "data": {
      "text/latex": [
       "$2.9979246 \\times 10^{10} \\; \\mathrm{\\frac{cm}{s}}$"
      ],
      "text/plain": [
       "<Quantity 2.99792458e+10 cm / s>"
      ]
     },
     "execution_count": 71,
     "metadata": {},
     "output_type": "execute_result"
    }
   ],
   "source": [
    "c.cgs"
   ]
  },
  {
   "cell_type": "code",
   "execution_count": 72,
   "metadata": {},
   "outputs": [
    {
     "data": {
      "text/latex": [
       "$45.658531 \\; \\mathrm{\\frac{1}{s}}$"
      ],
      "text/plain": [
       "<Quantity 45.65853099 1 / s>"
      ]
     },
     "execution_count": 72,
     "metadata": {},
     "output_type": "execute_result"
    }
   ],
   "source": [
    "0.95 * (F*u.erg/(u.cm**2 * u.s)) * (A*u.cm**2) * (5.5e-5*u.cm) / (h.cgs * c.cgs)"
   ]
  },
  {
   "cell_type": "markdown",
   "metadata": {},
   "source": [
    "### Nomor 16"
   ]
  },
  {
   "cell_type": "code",
   "execution_count": 73,
   "metadata": {},
   "outputs": [],
   "source": [
    "k_e = 1./(4*np.pi*eps0)"
   ]
  },
  {
   "cell_type": "code",
   "execution_count": 74,
   "metadata": {},
   "outputs": [
    {
     "data": {
      "text/latex": [
       "$8.9875518 \\times 10^{9} \\; \\mathrm{\\frac{m}{F}}$"
      ],
      "text/plain": [
       "<Quantity 8.98755179e+09 m / F>"
      ]
     },
     "execution_count": 74,
     "metadata": {},
     "output_type": "execute_result"
    }
   ],
   "source": [
    "k_e ### 9 x 10^9"
   ]
  },
  {
   "cell_type": "code",
   "execution_count": 75,
   "metadata": {},
   "outputs": [
    {
     "data": {
      "text/latex": [
       "$6.62607 \\times 10^{-34} \\; \\mathrm{J\\,s}$"
      ],
      "text/plain": [
       "<<class 'astropy.constants.codata2014.CODATA2014'> name='Planck constant' value=6.62607004e-34 uncertainty=8.1e-42 unit='J s' reference='CODATA 2014'>"
      ]
     },
     "execution_count": 75,
     "metadata": {},
     "output_type": "execute_result"
    }
   ],
   "source": [
    "h"
   ]
  },
  {
   "cell_type": "code",
   "execution_count": 76,
   "metadata": {},
   "outputs": [],
   "source": [
    "# radius\n",
    "r = h.to_value()**2 / (4 * np.pi**2 * m_e.to_value() * e.to_value()**2 * k_e.to_value()) \n",
    "#!entah kenapa error gara2 satuan"
   ]
  },
  {
   "cell_type": "code",
   "execution_count": 77,
   "metadata": {},
   "outputs": [
    {
     "name": "stdout",
     "output_type": "stream",
     "text": [
      "Radius untuk n=1: 5.2917721052676276e-11 meter\n"
     ]
    }
   ],
   "source": [
    "print(f\"Radius untuk n=1: {r} meter\")"
   ]
  },
  {
   "cell_type": "code",
   "execution_count": 78,
   "metadata": {},
   "outputs": [],
   "source": [
    "# energy\n",
    "E = -(2 * np.pi**2 * m_e.to_value() * e.to_value()**4 * k_e.to_value()**2) / h.to_value()**2 "
   ]
  },
  {
   "cell_type": "code",
   "execution_count": 79,
   "metadata": {},
   "outputs": [
    {
     "name": "stdout",
     "output_type": "stream",
     "text": [
      "Energi untuk n=1 adalah -2.1798723256957297e-18 Joule = -13.605693014090258 eV\n"
     ]
    }
   ],
   "source": [
    "print(f\"Energi untuk n=1 adalah {E} Joule = {E/e.to_value()} eV\")"
   ]
  },
  {
   "cell_type": "code",
   "execution_count": 80,
   "metadata": {},
   "outputs": [
    {
     "data": {
      "text/latex": [
       "$-10973732 \\; \\mathrm{\\frac{1}{m}}$"
      ],
      "text/plain": [
       "<Quantity -10973731.57208866 1 / m>"
      ]
     },
     "execution_count": 80,
     "metadata": {},
     "output_type": "execute_result"
    }
   ],
   "source": [
    "# cari lambda\n",
    "# konstanta Rydberg\n",
    "(E*u.Joule)/(h*c)"
   ]
  },
  {
   "cell_type": "code",
   "execution_count": 81,
   "metadata": {},
   "outputs": [
    {
     "name": "stdout",
     "output_type": "stream",
     "text": [
      "Sebagai pembanding, konstanta Rydberg di daftar konstanta: 10973731.568508 1 / m\n"
     ]
    }
   ],
   "source": [
    "print(f\"Sebagai pembanding, konstanta Rydberg di daftar konstanta: {Ryd}\")"
   ]
  },
  {
   "cell_type": "code",
   "execution_count": 82,
   "metadata": {},
   "outputs": [
    {
     "data": {
      "text/latex": [
       "$9.1126705 \\times 10^{-8} \\; \\mathrm{m}$"
      ],
      "text/plain": [
       "<Quantity 9.11267051e-08 m>"
      ]
     },
     "execution_count": 82,
     "metadata": {},
     "output_type": "execute_result"
    }
   ],
   "source": [
    "1./Ryd"
   ]
  },
  {
   "cell_type": "code",
   "execution_count": 83,
   "metadata": {},
   "outputs": [
    {
     "data": {
      "text/plain": [
       "1.215022686296087e-07"
      ]
     },
     "execution_count": 83,
     "metadata": {},
     "output_type": "execute_result"
    }
   ],
   "source": [
    "1. / (10973732 * (1./1 - 1./4))"
   ]
  },
  {
   "cell_type": "markdown",
   "metadata": {},
   "source": [
    "### Nomor 17\n"
   ]
  },
  {
   "cell_type": "code",
   "execution_count": 84,
   "metadata": {},
   "outputs": [
    {
     "name": "stdout",
     "output_type": "stream",
     "text": [
      "6896.756393652842\n"
     ]
    }
   ],
   "source": [
    "# Cara 1\n",
    "d = np.log(0.5)/np.log(0.99) * 100\n",
    "print(d)"
   ]
  },
  {
   "cell_type": "code",
   "execution_count": 85,
   "metadata": {},
   "outputs": [
    {
     "name": "stdout",
     "output_type": "stream",
     "text": [
      "0.0001005033585350145\n",
      "d = 6896.756393652843 pc = 2.1281166588735095e+20 m\n"
     ]
    }
   ],
   "source": [
    "## Cara 2\n",
    "konst = -np.log(0.99)/100.\n",
    "print(konst)\n",
    "\n",
    "d = -np.log(0.5)/konst\n",
    "d_in_m = (d*u.pc).to(u.m)\n",
    "\n",
    "print(f\"d = {d} pc = {d_in_m}\")"
   ]
  },
  {
   "cell_type": "code",
   "execution_count": 86,
   "metadata": {},
   "outputs": [],
   "source": [
    "tau = konst * 1000.0"
   ]
  },
  {
   "cell_type": "code",
   "execution_count": 87,
   "metadata": {},
   "outputs": [
    {
     "name": "stdout",
     "output_type": "stream",
     "text": [
      "0.1005033585350145\n"
     ]
    }
   ],
   "source": [
    "print(tau)"
   ]
  },
  {
   "cell_type": "markdown",
   "metadata": {},
   "source": [
    "### Nomor 18"
   ]
  },
  {
   "cell_type": "markdown",
   "metadata": {},
   "source": [
    "#### b.)\n",
    "\n",
    "Jarak dari kita (NGC 7320 dan NGC 7320C)"
   ]
  },
  {
   "cell_type": "code",
   "execution_count": 88,
   "metadata": {},
   "outputs": [],
   "source": [
    "v1 = 786 * u.km/u.s\n",
    "v2 = 5985 * u.km/u.s\n",
    "H0 = 69.3 * u.km/u.s/u.Mpc"
   ]
  },
  {
   "cell_type": "code",
   "execution_count": 89,
   "metadata": {},
   "outputs": [
    {
     "name": "stdout",
     "output_type": "stream",
     "text": [
      "0.002621813788257475 0.0199638110976094\n",
      "Small enough, ignore acceleration of universe!\n"
     ]
    }
   ],
   "source": [
    "z1 = v1/c.to(u.km/u.s)\n",
    "z2 = v2/c.to(u.km/u.s)\n",
    "print(z1, z2)\n",
    "print(\"Small enough, ignore acceleration of universe!\")"
   ]
  },
  {
   "cell_type": "code",
   "execution_count": 90,
   "metadata": {},
   "outputs": [
    {
     "name": "stdout",
     "output_type": "stream",
     "text": [
      "11.341991341991342 Mpc 86.36363636363637 Mpc 7.614503816793894\n"
     ]
    }
   ],
   "source": [
    "d1 = v1/H0\n",
    "d2 = v2/H0\n",
    "print(d1, d2, d2/d1)"
   ]
  },
  {
   "cell_type": "markdown",
   "metadata": {},
   "source": [
    "Cari skala"
   ]
  },
  {
   "cell_type": "code",
   "execution_count": 91,
   "metadata": {},
   "outputs": [],
   "source": [
    "from astropy.coordinates import SkyCoord"
   ]
  },
  {
   "cell_type": "code",
   "execution_count": 92,
   "metadata": {},
   "outputs": [],
   "source": [
    "jsudut = 355 # pixel\n",
    "coord1 = SkyCoord(\"22h36m3.5s 33d58m33s\", unit=(u.hour, u.degree)) # NGC 7319\n",
    "coord2 = SkyCoord(\"22h36m20.4s 33d59m6s\", unit=(u.hour, u.degree)) # NGC 7320C"
   ]
  },
  {
   "cell_type": "code",
   "execution_count": 93,
   "metadata": {},
   "outputs": [
    {
     "data": {
      "text/plain": [
       "(<SkyCoord (ICRS): (ra, dec) in deg\n",
       "     (339.01458333, 33.97583333)>, <SkyCoord (ICRS): (ra, dec) in deg\n",
       "     (339.085, 33.985)>)"
      ]
     },
     "execution_count": 93,
     "metadata": {},
     "output_type": "execute_result"
    }
   ],
   "source": [
    "coord1, coord2"
   ]
  },
  {
   "cell_type": "code",
   "execution_count": 94,
   "metadata": {},
   "outputs": [],
   "source": [
    "dist = coord1.separation(coord2)"
   ]
  },
  {
   "cell_type": "code",
   "execution_count": 95,
   "metadata": {},
   "outputs": [
    {
     "data": {
      "text/latex": [
       "$0^\\circ03{}^\\prime32.784{}^{\\prime\\prime}$"
      ],
      "text/plain": [
       "<Angle 0.05910666 deg>"
      ]
     },
     "execution_count": 95,
     "metadata": {},
     "output_type": "execute_result"
    }
   ],
   "source": [
    "dist"
   ]
  },
  {
   "cell_type": "code",
   "execution_count": 96,
   "metadata": {},
   "outputs": [
    {
     "data": {
      "text/latex": [
       "$212.784\\mathrm{{}^{\\prime\\prime}}$"
      ],
      "text/plain": [
       "<Angle 212.7839669 arcsec>"
      ]
     },
     "execution_count": 96,
     "metadata": {},
     "output_type": "execute_result"
    }
   ],
   "source": [
    "dist.to(u.arcsec)"
   ]
  },
  {
   "cell_type": "code",
   "execution_count": 97,
   "metadata": {},
   "outputs": [
    {
     "data": {
      "text/plain": [
       "0.5993915492957747"
      ]
     },
     "execution_count": 97,
     "metadata": {},
     "output_type": "execute_result"
    }
   ],
   "source": [
    "212.784/355"
   ]
  },
  {
   "cell_type": "code",
   "execution_count": 98,
   "metadata": {},
   "outputs": [
    {
     "data": {
      "text/plain": [
       "3.0625"
      ]
     },
     "execution_count": 98,
     "metadata": {},
     "output_type": "execute_result"
    }
   ],
   "source": [
    "196/64."
   ]
  },
  {
   "cell_type": "code",
   "execution_count": 99,
   "metadata": {},
   "outputs": [
    {
     "data": {
      "text/plain": [
       "(117.6, 38.4)"
      ]
     },
     "execution_count": 99,
     "metadata": {},
     "output_type": "execute_result"
    }
   ],
   "source": [
    "196*0.6, 64*0.6"
   ]
  },
  {
   "cell_type": "code",
   "execution_count": 100,
   "metadata": {},
   "outputs": [
    {
     "data": {
      "text/plain": [
       "(<Quantity 6.46652695 kpc>, <Quantity 16.07816952 kpc>)"
      ]
     },
     "execution_count": 100,
     "metadata": {},
     "output_type": "execute_result"
    }
   ],
   "source": [
    "(117.6/206265*d1).to(u.kpc), (38.4/206265*d2).to(u.kpc)"
   ]
  },
  {
   "cell_type": "markdown",
   "metadata": {},
   "source": [
    "#### c.)"
   ]
  },
  {
   "cell_type": "code",
   "execution_count": 101,
   "metadata": {},
   "outputs": [],
   "source": [
    "## mencari jarak rata-rata dari pusat cluster\n",
    "def spherical_to_cartesian(r, theta, phi):\n",
    "    \"\"\"\n",
    "    phi is azimuthal angle 0 to 360 deg\n",
    "    theta is colatitude angle from +z direction, 0 to 180 deg\n",
    "    \"\"\"\n",
    "    x = r*np.sin(theta)*np.cos(phi)\n",
    "    y = r*np.sin(theta)*np.sin(phi)\n",
    "    z = r*np.cos(theta)\n",
    "    \n",
    "    return x, y, z"
   ]
  },
  {
   "cell_type": "code",
   "execution_count": 102,
   "metadata": {},
   "outputs": [],
   "source": [
    "co = SkyCoord(ra=['22h35m51.9s', '22h35m56.7s', '22h35m58.4s', '22h36m3.5s', '22h36m20.4s'], \n",
    "              dec=['33d56m42s', '33d57m56s', '33d57m57s', '33d58m33s', '33d59m6s'], \n",
    "              unit=(u.hour, u.degree))"
   ]
  },
  {
   "cell_type": "code",
   "execution_count": 103,
   "metadata": {},
   "outputs": [
    {
     "name": "stdout",
     "output_type": "stream",
     "text": [
      "[338.96625    338.98625    338.99333333 339.01458333 339.085     ] [56.055      56.03444444 56.03416667 56.02416667 56.015     ]\n"
     ]
    }
   ],
   "source": [
    "phi = co.ra.value\n",
    "theta = (90*u.degree - co.dec).value\n",
    "print(phi, theta)"
   ]
  },
  {
   "cell_type": "code",
   "execution_count": 104,
   "metadata": {},
   "outputs": [
    {
     "name": "stdout",
     "output_type": "stream",
     "text": [
      "[95.22366522 95.67099567 83.31890332 97.35930736 86.36363636] Mpc in Mpc\n"
     ]
    }
   ],
   "source": [
    "v_radial = np.array([6599., 6630., 5774., 6747., 5985.])\n",
    "d = v_radial*(u.km/u.s) /H0\n",
    "print(d, \"in Mpc\")"
   ]
  },
  {
   "cell_type": "code",
   "execution_count": 105,
   "metadata": {},
   "outputs": [],
   "source": [
    "cart = spherical_to_cartesian(d, theta, phi)"
   ]
  },
  {
   "cell_type": "code",
   "execution_count": 106,
   "metadata": {},
   "outputs": [
    {
     "data": {
      "text/plain": [
       "(<Quantity [-42.74953414, -44.87410715, -39.18606216, -46.89150709,\n",
       "            -42.99476777] Mpc>,\n",
       " <Quantity [14.44038468, 14.16473632, 12.06472804, 13.35313387,  9.02954737] Mpc>,\n",
       " <Quantity [83.85403413, 83.29834431, 72.53229984, 84.27167441, 74.35452175] Mpc>)"
      ]
     },
     "execution_count": 106,
     "metadata": {},
     "output_type": "execute_result"
    }
   ],
   "source": [
    "cart"
   ]
  },
  {
   "cell_type": "code",
   "execution_count": 107,
   "metadata": {},
   "outputs": [],
   "source": [
    "from mpl_toolkits.mplot3d import Axes3D"
   ]
  },
  {
   "cell_type": "code",
   "execution_count": 108,
   "metadata": {},
   "outputs": [
    {
     "data": {
      "text/plain": [
       "<mpl_toolkits.mplot3d.art3d.Path3DCollection at 0x7fa0a451bb38>"
      ]
     },
     "execution_count": 108,
     "metadata": {},
     "output_type": "execute_result"
    },
    {
     "data": {
      "image/png": "[encoded data removed]",
      "text/plain": [
       "<Figure size 432x288 with 1 Axes>"
      ]
     },
     "metadata": {
      "needs_background": "light"
     },
     "output_type": "display_data"
    }
   ],
   "source": [
    "fig = plt.figure()\n",
    "ax = fig.add_subplot(111, projection='3d')\n",
    "\n",
    "ax.scatter(cart[0].value, cart[1].value, cart[2].value, c='r', marker='o')"
   ]
  },
  {
   "cell_type": "code",
   "execution_count": 109,
   "metadata": {},
   "outputs": [
    {
     "name": "stdout",
     "output_type": "stream",
     "text": [
      "-43.33919566332649 12.610506056071793 79.66217488768618\n",
      "[4.61170688 4.24185255 8.26931132 5.86667695 6.41194803]\n",
      "5.880299147250374\n"
     ]
    }
   ],
   "source": [
    "# asumsi massa galaksi sama semua\n",
    "center_of_mass_x = np.mean(cart[0].value)\n",
    "center_of_mass_y = np.mean(cart[1].value)\n",
    "center_of_mass_z = np.mean(cart[2].value)\n",
    "\n",
    "print(center_of_mass_x, center_of_mass_y, center_of_mass_z)\n",
    "\n",
    "# distance to the center of mass\n",
    "dist = np.sqrt((cart[0].value - center_of_mass_x)**2 + \n",
    "               (cart[1].value - center_of_mass_y)**2 + \n",
    "               (cart[2].value - center_of_mass_z)**2)\n",
    "print(dist) # Mpc\n",
    "\n",
    "print(np.mean(dist))"
   ]
  },
  {
   "cell_type": "code",
   "execution_count": 110,
   "metadata": {},
   "outputs": [
    {
     "name": "stdout",
     "output_type": "stream",
     "text": [
      "6347.0\n"
     ]
    }
   ],
   "source": [
    "mean_vr = np.mean(v_radial)\n",
    "print(mean_vr)"
   ]
  },
  {
   "cell_type": "code",
   "execution_count": 111,
   "metadata": {},
   "outputs": [
    {
     "name": "stdout",
     "output_type": "stream",
     "text": [
      "91.5873015873016 Mpc\n",
      "[2.79745831 1.07700995 0.75745061 0.8296269  3.81404977]\n",
      "1.8551191073539914\n"
     ]
    }
   ],
   "source": [
    "# Asumsi jaraknya ke kita sama\n",
    "d = mean_vr * (u.km/u.s) /H0\n",
    "print(d)\n",
    "\n",
    "cart = spherical_to_cartesian(d, theta, phi)\n",
    "\n",
    "# asumsi massa galaksi sama semua\n",
    "center_of_mass_x = np.mean(cart[0].value)\n",
    "center_of_mass_y = np.mean(cart[1].value)\n",
    "center_of_mass_z = np.mean(cart[2].value)\n",
    "\n",
    "# average distance to the center of mass\n",
    "dist = np.sqrt((cart[0].value - center_of_mass_x)**2 + \n",
    "               (cart[1].value - center_of_mass_y)**2 + \n",
    "               (cart[2].value - center_of_mass_z)**2)\n",
    "print(dist) # Mpc\n",
    "\n",
    "print(np.mean(dist)) # jarak rata-rata tangensial"
   ]
  },
  {
   "cell_type": "code",
   "execution_count": 112,
   "metadata": {},
   "outputs": [
    {
     "data": {
      "text/plain": [
       "2.6233661582020913"
      ]
     },
     "execution_count": 112,
     "metadata": {},
     "output_type": "execute_result"
    }
   ],
   "source": [
    "# jarak rata-ratanya \n",
    "np.sqrt(2 * 1.855**2)"
   ]
  },
  {
   "cell_type": "code",
   "execution_count": 113,
   "metadata": {},
   "outputs": [
    {
     "name": "stdout",
     "output_type": "stream",
     "text": [
      "152593.2\n"
     ]
    }
   ],
   "source": [
    "# Variansi kecepatan\n",
    "var_vr = np.var(v_radial)\n",
    "print(var_vr)"
   ]
  },
  {
   "cell_type": "code",
   "execution_count": 114,
   "metadata": {},
   "outputs": [
    {
     "name": "stdout",
     "output_type": "stream",
     "text": [
      "152593200000.0\n",
      "390.6317959408835\n",
      "390.6317959408835\n"
     ]
    }
   ],
   "source": [
    "# ngeCek ajah\n",
    "print(np.mean((v_radial*1000 - mean_vr*1000)**2))\n",
    "print(np.std(v_radial))\n",
    "print(np.sqrt(var_vr))"
   ]
  },
  {
   "cell_type": "code",
   "execution_count": 115,
   "metadata": {},
   "outputs": [
    {
     "name": "stdout",
     "output_type": "stream",
     "text": [
      "2.074157103291477e+45 kg\n"
     ]
    },
    {
     "data": {
      "text/latex": [
       "$1.0430891 \\times 10^{15} \\; \\mathrm{}$"
      ],
      "text/plain": [
       "<Quantity 1.04308914e+15>"
      ]
     },
     "execution_count": 115,
     "metadata": {},
     "output_type": "execute_result"
    }
   ],
   "source": [
    "## Pakai cara 2\n",
    "mass = 5 * var_vr*10**6 *(u.m*u.m/u.s/u.s) * (5.88*u.Mpc).to(u.m) / G\n",
    "print(mass)\n",
    "mass / M_sun"
   ]
  },
  {
   "cell_type": "code",
   "execution_count": 116,
   "metadata": {},
   "outputs": [
    {
     "name": "stdout",
     "output_type": "stream",
     "text": [
      "9.241992535074267e+44 kg\n"
     ]
    },
    {
     "data": {
      "text/latex": [
       "$4.6477781 \\times 10^{14} \\; \\mathrm{}$"
      ],
      "text/plain": [
       "<Quantity 4.64777812e+14>"
      ]
     },
     "execution_count": 116,
     "metadata": {},
     "output_type": "execute_result"
    }
   ],
   "source": [
    "## Pakai cara 1\n",
    "mass = 5 * var_vr*10**6 *(u.m*u.m/u.s/u.s) * (2.62*u.Mpc).to(u.m) / G\n",
    "print(mass)\n",
    "mass / M_sun"
   ]
  },
  {
   "cell_type": "markdown",
   "metadata": {},
   "source": [
    "### Nomor 19"
   ]
  },
  {
   "cell_type": "code",
   "execution_count": 117,
   "metadata": {},
   "outputs": [],
   "source": [
    "# lamb0 = 6564.5377 # H alpha"
   ]
  },
  {
   "cell_type": "code",
   "execution_count": 118,
   "metadata": {},
   "outputs": [
    {
     "name": "stdout",
     "output_type": "stream",
     "text": [
      "[ 0.14034343  0.99824147  1.78604805  1.40188266  1.02124859  0.60714749\n",
      "  0.70604178 -0.22492856 -1.30594541 -1.20705112 -0.8913182  -0.3862941\n",
      " -0.09133623 -0.28653291] [-0.14034343 -0.99813446 -1.5228038  -1.56004323 -1.2558142   0.26272257\n",
      "  0.98939406  1.2302745   1.88626292  1.77930829  1.8637397   1.12418218\n",
      "  1.00509057  0.74271054]\n",
      "[  6.42733075  45.7166259   81.79593125  64.20224662  46.77028668\n",
      "  27.80563181  32.33470938 -10.30108975 -59.80859277 -55.27951521\n",
      " -40.81984374 -17.69117316  -4.18293996 -13.12239401] [ -6.42733075 -45.71172516 -69.74009164 -71.44555188 -57.51272587\n",
      "  12.03194789  45.31143945  56.34307978  86.38548769  81.48726901\n",
      "  85.35398797  51.48435285  46.03029536  34.01403476]\n"
     ]
    }
   ],
   "source": [
    "t = np.array([0.061, 0.334, 1.019, 1.152, 1.338, 1.886, 2.038, 2.148, 2.821, 2.859, 3.145, 3.559, 3.654, 3.677])\n",
    "\n",
    "lamb1 = np.array([6546.232896257508, 6547.090794298514, 6547.878600881761,6547.494435487322, 6547.113801418237, \n",
    "         6546.699700320347, 6546.798594605766, 6545.867624263718, 6544.786607419655, 6544.885501705074,\n",
    "         6545.20123462353, 6545.706258730231, 6546.001216599829, 6545.80601991619])\n",
    "\n",
    "lamb2 = np.array([6545.952209396892, 6545.094418365745, 6544.56974902621, 6544.532509595217, 6544.836738624852, \n",
    "         6546.355275395267, 6547.081946884365, 6547.322827322518, 6547.978815748683, 6547.871861113982,\n",
    "         6547.95629252467, 6547.216735006534, 6547.097643401073, 6546.835263371333])\n",
    "         \n",
    "\n",
    "\n",
    "lamb0 = (6546.232896257508 + 6545.952209396892)/2 ## sebenarnya salah!!\n",
    "\n",
    "dlamb1 = lamb1 - lamb0\n",
    "dlamb2 = lamb2 - lamb0\n",
    "\n",
    "print(dlamb1, dlamb2)\n",
    "\n",
    "vrad1 = dlamb1/lamb0 * c.to(u.km/u.s).value\n",
    "vrad2 = dlamb2/lamb0 * c.to(u.km/u.s).value\n",
    "\n",
    "print(vrad1, vrad2)"
   ]
  },
  {
   "cell_type": "code",
   "execution_count": 119,
   "metadata": {},
   "outputs": [],
   "source": [
    "# for i,ti in enumerate(t):\n",
    "#     print(ti, ' & ', \"{0:.3f}\".format(round(dlamb1[i],3)), ' & ', \"{0:.3f}\".format(round(dlamb2[i],3)), \n",
    "#           ' & ', \"{0:.3f}\".format(round(vrad1[i],3)), ' & ', \"{0:.3f}\".format(round(vrad2[i],3)), ' \\\\\\\\')"
   ]
  },
  {
   "cell_type": "code",
   "execution_count": 120,
   "metadata": {},
   "outputs": [
    {
     "data": {
      "text/plain": [
       "[<matplotlib.lines.Line2D at 0x7fa0a4464828>]"
      ]
     },
     "execution_count": 120,
     "metadata": {},
     "output_type": "execute_result"
    },
    {
     "data": {
      "image/png": "[encoded data removed]",
      "text/plain": [
       "<Figure size 432x288 with 1 Axes>"
      ]
     },
     "metadata": {
      "needs_background": "light"
     },
     "output_type": "display_data"
    }
   ],
   "source": [
    "plt.plot(t, vrad1, 'bo--')\n",
    "plt.plot(t, vrad2, 'ro--')"
   ]
  },
  {
   "cell_type": "markdown",
   "metadata": {},
   "source": [
    "agak jelek, tapi masih bisa dikira-kira fungsi sinusoidalnya, haha"
   ]
  },
  {
   "cell_type": "code",
   "execution_count": 121,
   "metadata": {},
   "outputs": [
    {
     "data": {
      "text/plain": [
       "array([  6.42733075,  45.7166259 ,  81.79593125,  64.20224662,\n",
       "        46.77028668,  27.80563181,  32.33470938, -10.30108975,\n",
       "       -59.80859277, -55.27951521, -40.81984374, -17.69117316,\n",
       "        -4.18293996, -13.12239401,  -6.42733075, -45.71172516,\n",
       "       -69.74009164, -71.44555188, -57.51272587,  12.03194789,\n",
       "        45.31143945,  56.34307978,  86.38548769,  81.48726901,\n",
       "        85.35398797,  51.48435285,  46.03029536,  34.01403476])"
      ]
     },
     "execution_count": 121,
     "metadata": {},
     "output_type": "execute_result"
    }
   ],
   "source": [
    "vrad = np.concatenate([vrad1, vrad2])\n",
    "vrad"
   ]
  },
  {
   "cell_type": "code",
   "execution_count": 122,
   "metadata": {},
   "outputs": [],
   "source": [
    "newt = np.concatenate([t, t])"
   ]
  },
  {
   "cell_type": "code",
   "execution_count": 123,
   "metadata": {},
   "outputs": [],
   "source": [
    "from scipy import optimize"
   ]
  },
  {
   "cell_type": "code",
   "execution_count": 124,
   "metadata": {},
   "outputs": [],
   "source": [
    "# fitting sinusoidal\n",
    "def func(ti, A, P, phi):\n",
    "    \"\"\"untuk per bintang\"\"\"\n",
    "    return A*np.sin(2.*np.pi/P * ti + phi)\n",
    "\n",
    "\n",
    "\n",
    "# harus dibuat satu persamaan yang ngefit 2 bintang sekaligus \n",
    "# karena parameter dua bintang ini tercouple oleh Periode (P1 = P2) dan phase (phi1 = phi2 + pi)...\n",
    "def func_sinusoidal_terkopel(ti, A1, A2, P, phi):\n",
    "    \"\"\"untuk dua fungsi sinusoidal sekaligus\"\"\"\n",
    "    ti1 = ti[:14]\n",
    "    ti2 = ti[14:]\n",
    "    \n",
    "    vr1 = A1*np.sin(2.*np.pi/P * ti1 + phi)\n",
    "    vr2 = A2*np.sin(2.*np.pi/P * ti2 + phi+np.pi)\n",
    "    vr = np.concatenate([vr1, vr2])\n",
    "    \n",
    "    return vr"
   ]
  },
  {
   "cell_type": "code",
   "execution_count": 125,
   "metadata": {},
   "outputs": [
    {
     "name": "stdout",
     "output_type": "stream",
     "text": [
      "A1:  58.59379744524151 \n",
      "A2:  84.76409621749212 \n",
      "P:  3.9333147530119006 \n",
      "phi:  0.08793145199871287\n"
     ]
    }
   ],
   "source": [
    "params, params_covariance1 = optimize.curve_fit(func_sinusoidal_terkopel, newt, vrad, p0=[70, 80, 3.5, 0.0]) # p0 = tebakan awal\n",
    "print('A1: ', params[0], '\\nA2: ', params[1], '\\nP: ', params[2], '\\nphi: ', params[3])"
   ]
  },
  {
   "cell_type": "code",
   "execution_count": 126,
   "metadata": {},
   "outputs": [],
   "source": [
    "tdump = np.linspace(-0.1, 3.9, 1000)\n",
    "vdump1 = func(tdump, params[0], params[2], params[3])\n",
    "vdump2 = func(tdump, params[1], params[2], params[3]+np.pi)"
   ]
  },
  {
   "cell_type": "code",
   "execution_count": 127,
   "metadata": {},
   "outputs": [
    {
     "data": {
      "image/png": "[encoded data removed]",
      "text/plain": [
       "<Figure size 720x432 with 1 Axes>"
      ]
     },
     "metadata": {
      "needs_background": "light"
     },
     "output_type": "display_data"
    }
   ],
   "source": [
    "plt.figure(figsize=(10,6))\n",
    "plt.plot(t, vrad1, 'bo--', label='data')\n",
    "plt.plot(t, vrad2, 'ro--', label='data')\n",
    "plt.plot(tdump, vdump1, 'b-', label='hasil fitting')\n",
    "plt.plot(tdump, vdump2, 'r-', label='hasil fitting')\n",
    "plt.xlabel(r'$t$ [days]', fontsize=18)\n",
    "plt.ylabel(r'$V_{r}$ [km/s]', fontsize=18)\n",
    "#plt.legend(loc='best')\n",
    "plt.text(1.0, 86, r'$V_{r,1} = 58.6 \\cdot \\sin{\\left( \\frac{2\\pi}{3.93} t \\right) + 0.088}$', \n",
    "         horizontalalignment='center', verticalalignment='center', fontsize=18, color='blue')\n",
    "plt.text(2.5, -75, r'$V_{r,2} = 84.8 \\cdot \\sin{\\left( \\frac{2\\pi}{3.93} t \\right) + 3.228}$', \n",
    "        horizontalalignment='center', verticalalignment='center', fontsize=18, color='red')\n",
    "plt.grid(True)\n",
    "plt.savefig('vrad.png', transparent=True, dpi=150)"
   ]
  },
  {
   "cell_type": "markdown",
   "metadata": {},
   "source": [
    "#### kalau misal di gabung saja (dirata-rata) -> diawal sudah membuat asumsi m1 = m2 "
   ]
  },
  {
   "cell_type": "code",
   "execution_count": 128,
   "metadata": {},
   "outputs": [],
   "source": [
    "dlamb = (np.array(lamb1) - np.array(lamb2))/2."
   ]
  },
  {
   "cell_type": "code",
   "execution_count": 129,
   "metadata": {},
   "outputs": [],
   "source": [
    "vrad = dlamb/lamb0 * c.to(u.km/u.s).value"
   ]
  },
  {
   "cell_type": "code",
   "execution_count": 130,
   "metadata": {},
   "outputs": [
    {
     "name": "stdout",
     "output_type": "stream",
     "text": [
      "[7.17929799e+01 3.90845415e+00 5.38123541e-02]\n"
     ]
    }
   ],
   "source": [
    "params, params_covariance = optimize.curve_fit(func, t, vrad, p0=[80, 3.5, 0.0]) # p0 = tebakan awal\n",
    "print(params)"
   ]
  },
  {
   "cell_type": "code",
   "execution_count": 131,
   "metadata": {},
   "outputs": [
    {
     "data": {
      "image/png": "[encoded data removed]",
      "text/plain": [
       "<Figure size 720x432 with 1 Axes>"
      ]
     },
     "metadata": {
      "needs_background": "light"
     },
     "output_type": "display_data"
    }
   ],
   "source": [
    "tdump = np.linspace(-0.1, 3.9, 1000)\n",
    "ydump = func(tdump, params[0], params[1], params[2])\n",
    "\n",
    "plt.figure(figsize=(10,6))\n",
    "plt.plot(t, vrad, 'bo--', label='data')\n",
    "plt.plot(tdump, ydump, 'k-', label='hasil fitting')\n",
    "plt.xlabel(r'$t$ [days]', fontsize=18)\n",
    "plt.ylabel(r'$V_{r}$ [km/s]', fontsize=18)\n",
    "plt.legend()\n",
    "plt.grid(True)\n",
    "plt.text(1.0, -40, r'$V_r = 71.8 \\cdot \\sin{\\left( \\frac{2\\pi}{3.9} t \\right) + 0.054}$', \n",
    "         horizontalalignment='center', verticalalignment='center', fontsize=18)\n",
    "plt.savefig('vrad_combine.png', transparent=True, dpi=150)"
   ]
  },
  {
   "cell_type": "code",
   "execution_count": 132,
   "metadata": {},
   "outputs": [
    {
     "name": "stdout",
     "output_type": "stream",
     "text": [
      "7749533.782548408   km   =    0.05180243372640737 AU  sa\n"
     ]
    }
   ],
   "source": [
    "a = (3.93*24*3600)/(2*np.pi) * (58.6 + 84.8)\n",
    "print(a, '  km   =   ', (a*u.km).to(u.au), ' sa')"
   ]
  },
  {
   "cell_type": "code",
   "execution_count": 133,
   "metadata": {},
   "outputs": [
    {
     "data": {
      "text/plain": [
       "1.2005620958717438"
      ]
     },
     "execution_count": 133,
     "metadata": {},
     "output_type": "execute_result"
    }
   ],
   "source": [
    "0.0518**3 / (3.93/365.25)**2 "
   ]
  },
  {
   "cell_type": "code",
   "execution_count": 134,
   "metadata": {},
   "outputs": [
    {
     "data": {
      "text/plain": [
       "1.447098976109215"
      ]
     },
     "execution_count": 134,
     "metadata": {},
     "output_type": "execute_result"
    }
   ],
   "source": [
    "84.8/58.6"
   ]
  },
  {
   "cell_type": "code",
   "execution_count": 135,
   "metadata": {},
   "outputs": [
    {
     "name": "stdout",
     "output_type": "stream",
     "text": [
      "0.7096035962402942 0.4903964037597057\n"
     ]
    }
   ],
   "source": [
    "M2 = 1.2/2.447\n",
    "M1 = 1.2 - M2\n",
    "print(M1, M2)"
   ]
  },
  {
   "cell_type": "markdown",
   "metadata": {},
   "source": [
    "### Nomor 20"
   ]
  },
  {
   "cell_type": "code",
   "execution_count": 136,
   "metadata": {},
   "outputs": [],
   "source": [
    "t1 = 3600.0 * u.second\n",
    "M = 2.16e30 * u.kg\n",
    "r1 = 10 * u.km\n",
    "r2 = 20 * u.km"
   ]
  },
  {
   "cell_type": "code",
   "execution_count": 137,
   "metadata": {},
   "outputs": [],
   "source": [
    "rs = (2*G*M) / c**2 # Schwarzchild radius"
   ]
  },
  {
   "cell_type": "code",
   "execution_count": 138,
   "metadata": {},
   "outputs": [
    {
     "name": "stdout",
     "output_type": "stream",
     "text": [
      "3207.995489997936 m\n"
     ]
    }
   ],
   "source": [
    "print(rs)"
   ]
  },
  {
   "cell_type": "code",
   "execution_count": 139,
   "metadata": {},
   "outputs": [],
   "source": [
    "t0 = t1 / (np.sqrt( 1.0 - rs/r1))"
   ]
  },
  {
   "cell_type": "code",
   "execution_count": 140,
   "metadata": {},
   "outputs": [
    {
     "data": {
      "text/latex": [
       "$4368.2101 \\; \\mathrm{s}$"
      ],
      "text/plain": [
       "<Quantity 4368.21009276 s>"
      ]
     },
     "execution_count": 140,
     "metadata": {},
     "output_type": "execute_result"
    }
   ],
   "source": [
    "t0"
   ]
  },
  {
   "cell_type": "code",
   "execution_count": 141,
   "metadata": {},
   "outputs": [
    {
     "data": {
      "text/latex": [
       "$72.803502 \\; \\mathrm{min}$"
      ],
      "text/plain": [
       "<Quantity 72.80350155 min>"
      ]
     },
     "execution_count": 141,
     "metadata": {},
     "output_type": "execute_result"
    }
   ],
   "source": [
    "t0.to(u.minute)"
   ]
  },
  {
   "cell_type": "code",
   "execution_count": 142,
   "metadata": {},
   "outputs": [],
   "source": [
    "t2 = t0 * (np.sqrt( 1.0 - rs/r2))"
   ]
  },
  {
   "cell_type": "code",
   "execution_count": 143,
   "metadata": {},
   "outputs": [
    {
     "data": {
      "text/latex": [
       "$4002.5779 \\; \\mathrm{s}$"
      ],
      "text/plain": [
       "<Quantity 4002.57788272 s>"
      ]
     },
     "execution_count": 143,
     "metadata": {},
     "output_type": "execute_result"
    }
   ],
   "source": [
    "t2"
   ]
  },
  {
   "cell_type": "code",
   "execution_count": 144,
   "metadata": {},
   "outputs": [
    {
     "data": {
      "text/latex": [
       "$66.709631 \\; \\mathrm{min}$"
      ],
      "text/plain": [
       "<Quantity 66.70963138 min>"
      ]
     },
     "execution_count": 144,
     "metadata": {},
     "output_type": "execute_result"
    }
   ],
   "source": [
    "t2.to(u.minute)"
   ]
  },
  {
   "cell_type": "code",
   "execution_count": 145,
   "metadata": {},
   "outputs": [
    {
     "data": {
      "text/latex": [
       "$0.89942035 \\; \\mathrm{}$"
      ],
      "text/plain": [
       "<Quantity 0.89942035>"
      ]
     },
     "execution_count": 145,
     "metadata": {},
     "output_type": "execute_result"
    }
   ],
   "source": [
    "t1/t2"
   ]
  },
  {
   "cell_type": "code",
   "execution_count": 146,
   "metadata": {},
   "outputs": [
    {
     "data": {
      "text/latex": [
       "$0.89942035 \\; \\mathrm{}$"
      ],
      "text/plain": [
       "<Quantity 0.89942035>"
      ]
     },
     "execution_count": 146,
     "metadata": {},
     "output_type": "execute_result"
    }
   ],
   "source": [
    "np.sqrt(2.0) * np.sqrt( (10000*u.m - rs)/(20000*u.m - rs) )"
   ]
  },
  {
   "cell_type": "markdown",
   "metadata": {},
   "source": [
    "#### Proper distance in Schwarzschild' space"
   ]
  },
  {
   "cell_type": "code",
   "execution_count": 147,
   "metadata": {},
   "outputs": [],
   "source": [
    "def gamma(r, rs):\n",
    "    return np.sqrt(1.0 - rs/r)\n",
    "\n",
    "# solution from Wolfram alpha ;D\n",
    "def ___proper_distance_radial(r, rs):\n",
    "    return r*gamma(r, rs) + 0.5*rs*np.log( 2.*r*(gamma(r, rs) + 1) - rs )\n",
    "    #return rs*np.log(r - rs) + r # null geodetic\n",
    "\n",
    "def proper_distance_radial(r1, r2, rs):\n",
    "    return ___proper_distance_radial(r2, rs) - ___proper_distance_radial(r1, rs)"
   ]
  },
  {
   "cell_type": "code",
   "execution_count": 148,
   "metadata": {},
   "outputs": [
    {
     "name": "stdout",
     "output_type": "stream",
     "text": [
      "3207.995489997936\n"
     ]
    }
   ],
   "source": [
    "rs = rs.value\n",
    "print(rs)"
   ]
  },
  {
   "cell_type": "code",
   "execution_count": 149,
   "metadata": {},
   "outputs": [
    {
     "data": {
      "text/plain": [
       "11354.501148161464"
      ]
     },
     "execution_count": 149,
     "metadata": {},
     "output_type": "execute_result"
    }
   ],
   "source": [
    "proper_distance_radial(10000, 20000, rs)"
   ]
  },
  {
   "cell_type": "code",
   "execution_count": 150,
   "metadata": {},
   "outputs": [
    {
     "data": {
      "text/plain": [
       "22077.320348093497"
      ]
     },
     "execution_count": 150,
     "metadata": {},
     "output_type": "execute_result"
    }
   ],
   "source": [
    "proper_distance_radial(10000, 30000, rs)"
   ]
  },
  {
   "cell_type": "code",
   "execution_count": 151,
   "metadata": {},
   "outputs": [
    {
     "data": {
      "text/plain": [
       "-22077.320348093497"
      ]
     },
     "execution_count": 151,
     "metadata": {},
     "output_type": "execute_result"
    }
   ],
   "source": [
    "proper_distance_radial(30000, 10000, rs)"
   ]
  },
  {
   "cell_type": "code",
   "execution_count": 152,
   "metadata": {},
   "outputs": [
    {
     "data": {
      "text/plain": [
       "23347.85738756382"
      ]
     },
     "execution_count": 152,
     "metadata": {},
     "output_type": "execute_result"
    }
   ],
   "source": [
    "proper_distance_radial(rs, 20000, rs)"
   ]
  },
  {
   "cell_type": "code",
   "execution_count": 153,
   "metadata": {},
   "outputs": [
    {
     "data": {
      "text/plain": [
       "20000.032079696655"
      ]
     },
     "execution_count": 153,
     "metadata": {},
     "output_type": "execute_result"
    }
   ],
   "source": [
    "## flattttteeer at the far distance\n",
    "proper_distance_radial(1000000000, 1000020000, 3207.995489997936)"
   ]
  },
  {
   "cell_type": "code",
   "execution_count": null,
   "metadata": {},
   "outputs": [],
   "source": []
  }
 ],
 "metadata": {
  "kernelspec": {
   "display_name": "Python 3",
   "language": "python",
   "name": "python3"
  },
  "language_info": {
   "codemirror_mode": {
    "name": "ipython",
    "version": 3
   },
   "file_extension": ".py",
   "mimetype": "text/x-python",
   "name": "python",
   "nbconvert_exporter": "python",
   "pygments_lexer": "ipython3",
   "version": "3.7.1"
  }
 },
 "nbformat": 4,
 "nbformat_minor": 2
}
